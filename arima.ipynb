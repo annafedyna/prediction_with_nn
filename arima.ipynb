{
 "cells": [
  {
   "cell_type": "code",
   "execution_count": 18,
   "metadata": {},
   "outputs": [
    {
     "data": {
      "image/png": "[encoded data removed]",
      "text/plain": [
       "<Figure size 640x480 with 1 Axes>"
      ]
     },
     "metadata": {},
     "output_type": "display_data"
    }
   ],
   "source": [
    "import pandas as pd\n",
    "import matplotlib.pyplot as plt\n",
    "import numpy as np\n",
    "from sklearn.preprocessing import MinMaxScaler\n",
    "\n",
    "df1 = pd.read_csv(\"1.csv\")\n",
    "\n",
    "ukraine_data = df1[df1['key_apple_mobility'] == 'Ukraine']\n",
    "data = ukraine_data[ukraine_data['confirmed'] != '']\n",
    "plt.plot(data.index, data['confirmed'])\n",
    "data = data[['date', 'confirmed']]"
   ]
  },
  {
   "cell_type": "code",
   "execution_count": 19,
   "metadata": {},
   "outputs": [],
   "source": [
    "import datetime \n",
    "\n",
    "def str_to_datetime(s):\n",
    "    split = s.split('-')\n",
    "    year, month, day = int(split[0]), int(split[1]), int(split[2])\n",
    "    return datetime.datetime(year=year, month=month, day=day)\n",
    "\n",
    "data['date'] = data['date'].apply(str_to_datetime)"
   ]
  },
  {
   "cell_type": "code",
   "execution_count": 20,
   "metadata": {},
   "outputs": [
    {
     "data": {
      "text/html": [
       "<div>\n",
       "<style scoped>\n",
       "    .dataframe tbody tr th:only-of-type {\n",
       "        vertical-align: middle;\n",
       "    }\n",
       "\n",
       "    .dataframe tbody tr th {\n",
       "        vertical-align: top;\n",
       "    }\n",
       "\n",
       "    .dataframe thead th {\n",
       "        text-align: right;\n",
       "    }\n",
       "</style>\n",
       "<table border=\"1\" class=\"dataframe\">\n",
       "  <thead>\n",
       "    <tr style=\"text-align: right;\">\n",
       "      <th></th>\n",
       "      <th>confirmed</th>\n",
       "    </tr>\n",
       "    <tr>\n",
       "      <th>date</th>\n",
       "      <th></th>\n",
       "    </tr>\n",
       "  </thead>\n",
       "  <tbody>\n",
       "    <tr>\n",
       "      <th>2020-01-03</th>\n",
       "      <td>NaN</td>\n",
       "    </tr>\n",
       "    <tr>\n",
       "      <th>2020-01-04</th>\n",
       "      <td>NaN</td>\n",
       "    </tr>\n",
       "    <tr>\n",
       "      <th>2020-01-05</th>\n",
       "      <td>NaN</td>\n",
       "    </tr>\n",
       "    <tr>\n",
       "      <th>2020-01-06</th>\n",
       "      <td>NaN</td>\n",
       "    </tr>\n",
       "    <tr>\n",
       "      <th>2020-01-07</th>\n",
       "      <td>NaN</td>\n",
       "    </tr>\n",
       "    <tr>\n",
       "      <th>...</th>\n",
       "      <td>...</td>\n",
       "    </tr>\n",
       "    <tr>\n",
       "      <th>2023-03-05</th>\n",
       "      <td>5701743.0</td>\n",
       "    </tr>\n",
       "    <tr>\n",
       "      <th>2023-03-06</th>\n",
       "      <td>5701855.0</td>\n",
       "    </tr>\n",
       "    <tr>\n",
       "      <th>2023-03-07</th>\n",
       "      <td>5701959.0</td>\n",
       "    </tr>\n",
       "    <tr>\n",
       "      <th>2023-03-08</th>\n",
       "      <td>5711818.0</td>\n",
       "    </tr>\n",
       "    <tr>\n",
       "      <th>2023-03-09</th>\n",
       "      <td>5711929.0</td>\n",
       "    </tr>\n",
       "  </tbody>\n",
       "</table>\n",
       "<p>1162 rows × 1 columns</p>\n",
       "</div>"
      ],
      "text/plain": [
       "            confirmed\n",
       "date                 \n",
       "2020-01-03        NaN\n",
       "2020-01-04        NaN\n",
       "2020-01-05        NaN\n",
       "2020-01-06        NaN\n",
       "2020-01-07        NaN\n",
       "...               ...\n",
       "2023-03-05  5701743.0\n",
       "2023-03-06  5701855.0\n",
       "2023-03-07  5701959.0\n",
       "2023-03-08  5711818.0\n",
       "2023-03-09  5711929.0\n",
       "\n",
       "[1162 rows x 1 columns]"
      ]
     },
     "execution_count": 20,
     "metadata": {},
     "output_type": "execute_result"
    }
   ],
   "source": [
    "data.index = data.pop('date')\n",
    "data"
   ]
  },
  {
   "cell_type": "code",
   "execution_count": 21,
   "metadata": {},
   "outputs": [
    {
     "data": {
      "text/html": [
       "<div>\n",
       "<style scoped>\n",
       "    .dataframe tbody tr th:only-of-type {\n",
       "        vertical-align: middle;\n",
       "    }\n",
       "\n",
       "    .dataframe tbody tr th {\n",
       "        vertical-align: top;\n",
       "    }\n",
       "\n",
       "    .dataframe thead th {\n",
       "        text-align: right;\n",
       "    }\n",
       "</style>\n",
       "<table border=\"1\" class=\"dataframe\">\n",
       "  <thead>\n",
       "    <tr style=\"text-align: right;\">\n",
       "      <th></th>\n",
       "      <th>confirmed</th>\n",
       "    </tr>\n",
       "    <tr>\n",
       "      <th>date</th>\n",
       "      <th></th>\n",
       "    </tr>\n",
       "  </thead>\n",
       "  <tbody>\n",
       "    <tr>\n",
       "      <th>2020-03-03</th>\n",
       "      <td>1.0</td>\n",
       "    </tr>\n",
       "    <tr>\n",
       "      <th>2020-03-04</th>\n",
       "      <td>1.0</td>\n",
       "    </tr>\n",
       "    <tr>\n",
       "      <th>2020-03-05</th>\n",
       "      <td>1.0</td>\n",
       "    </tr>\n",
       "    <tr>\n",
       "      <th>2020-03-06</th>\n",
       "      <td>1.0</td>\n",
       "    </tr>\n",
       "    <tr>\n",
       "      <th>2020-03-07</th>\n",
       "      <td>1.0</td>\n",
       "    </tr>\n",
       "    <tr>\n",
       "      <th>...</th>\n",
       "      <td>...</td>\n",
       "    </tr>\n",
       "    <tr>\n",
       "      <th>2023-03-05</th>\n",
       "      <td>5701743.0</td>\n",
       "    </tr>\n",
       "    <tr>\n",
       "      <th>2023-03-06</th>\n",
       "      <td>5701855.0</td>\n",
       "    </tr>\n",
       "    <tr>\n",
       "      <th>2023-03-07</th>\n",
       "      <td>5701959.0</td>\n",
       "    </tr>\n",
       "    <tr>\n",
       "      <th>2023-03-08</th>\n",
       "      <td>5711818.0</td>\n",
       "    </tr>\n",
       "    <tr>\n",
       "      <th>2023-03-09</th>\n",
       "      <td>5711929.0</td>\n",
       "    </tr>\n",
       "  </tbody>\n",
       "</table>\n",
       "<p>1102 rows × 1 columns</p>\n",
       "</div>"
      ],
      "text/plain": [
       "            confirmed\n",
       "date                 \n",
       "2020-03-03        1.0\n",
       "2020-03-04        1.0\n",
       "2020-03-05        1.0\n",
       "2020-03-06        1.0\n",
       "2020-03-07        1.0\n",
       "...               ...\n",
       "2023-03-05  5701743.0\n",
       "2023-03-06  5701855.0\n",
       "2023-03-07  5701959.0\n",
       "2023-03-08  5711818.0\n",
       "2023-03-09  5711929.0\n",
       "\n",
       "[1102 rows x 1 columns]"
      ]
     },
     "execution_count": 21,
     "metadata": {},
     "output_type": "execute_result"
    }
   ],
   "source": [
    "data['confirmed'] = data['confirmed'].fillna(method='bfill')\n",
    "data[data.index >= '2020-03-03']"
   ]
  },
  {
   "cell_type": "code",
   "execution_count": 22,
   "metadata": {},
   "outputs": [],
   "source": [
    "import warnings\n",
    "warnings.filterwarnings('ignore')"
   ]
  },
  {
   "cell_type": "markdown",
   "metadata": {},
   "source": [
    "Stationaruty check"
   ]
  },
  {
   "cell_type": "code",
   "execution_count": 23,
   "metadata": {},
   "outputs": [],
   "source": [
    "import statsmodels.api as sm \n",
    "from statsmodels.tsa.stattools import adfuller\n",
    "from statsmodels.tsa.arima.model import ARIMA\n",
    "from pmdarima import auto_arima"
   ]
  },
  {
   "cell_type": "code",
   "execution_count": 24,
   "metadata": {},
   "outputs": [
    {
     "data": {
      "image/png": "[encoded data removed]",
      "text/plain": [
       "<Figure size 640x480 with 4 Axes>"
      ]
     },
     "metadata": {},
     "output_type": "display_data"
    }
   ],
   "source": [
    "decomposition = sm.tsa.seasonal_decompose(data['confirmed'],model='additive')\n",
    "fig = decomposition.plot()\n",
    "plt.show()"
   ]
  },
  {
   "cell_type": "code",
   "execution_count": 25,
   "metadata": {},
   "outputs": [
    {
     "data": {
      "text/plain": [
       "0.9111034068276582"
      ]
     },
     "execution_count": 25,
     "metadata": {},
     "output_type": "execute_result"
    }
   ],
   "source": [
    "adtest = adfuller(data)\n",
    "adtest[1]"
   ]
  },
  {
   "cell_type": "markdown",
   "metadata": {},
   "source": [
    "Split of data"
   ]
  },
  {
   "cell_type": "code",
   "execution_count": 26,
   "metadata": {},
   "outputs": [],
   "source": [
    "q_80 = int(len(data) * .8)\n",
    "dates_train, X_train = data.index[:q_80], data['confirmed'][:q_80]\n",
    "dates_test, X_test = data.index[q_80:], data['confirmed'][q_80:]\n"
   ]
  },
  {
   "cell_type": "code",
   "execution_count": 27,
   "metadata": {},
   "outputs": [],
   "source": [
    "scaler = MinMaxScaler()\n",
    "scaler.fit(X_train.to_numpy().reshape(-1, 1))  \n",
    "\n",
    "X_train_scaled = scaler.transform(X_train.to_numpy().reshape(-1, 1))\n",
    "X_test_scaled = scaler.transform(X_test.to_numpy().reshape(-1, 1))"
   ]
  },
  {
   "cell_type": "markdown",
   "metadata": {},
   "source": [
    "Arima :\n",
    "- AR:  p\n",
    "- I : d\n",
    "- MA: q"
   ]
  },
  {
   "cell_type": "code",
   "execution_count": 28,
   "metadata": {},
   "outputs": [
    {
     "name": "stdout",
     "output_type": "stream",
     "text": [
      "Performing stepwise search to minimize aic\n",
      " ARIMA(2,2,2)(0,0,0)[0]             : AIC=-10851.983, Time=0.87 sec\n",
      " ARIMA(0,2,0)(0,0,0)[0]             : AIC=-11341.810, Time=0.06 sec\n",
      " ARIMA(1,2,0)(0,0,0)[0]             : AIC=-11341.472, Time=0.21 sec\n",
      " ARIMA(0,2,1)(0,0,0)[0]             : AIC=-11341.937, Time=0.15 sec\n",
      " ARIMA(1,2,1)(0,0,0)[0]             : AIC=-11337.811, Time=0.15 sec\n",
      " ARIMA(0,2,2)(0,0,0)[0]             : AIC=-11425.518, Time=0.43 sec\n",
      " ARIMA(1,2,2)(0,0,0)[0]             : AIC=-10825.510, Time=0.86 sec\n",
      " ARIMA(0,2,3)(0,0,0)[0]             : AIC=-11406.690, Time=0.76 sec\n",
      " ARIMA(1,2,3)(0,0,0)[0]             : AIC=-11325.521, Time=0.63 sec\n",
      " ARIMA(0,2,2)(0,0,0)[0] intercept   : AIC=-11432.012, Time=1.01 sec\n",
      " ARIMA(0,2,1)(0,0,0)[0] intercept   : AIC=-11339.937, Time=0.33 sec\n",
      " ARIMA(1,2,2)(0,0,0)[0] intercept   : AIC=-10823.280, Time=0.87 sec\n",
      " ARIMA(0,2,3)(0,0,0)[0] intercept   : AIC=-11404.730, Time=0.59 sec\n",
      " ARIMA(1,2,1)(0,0,0)[0] intercept   : AIC=-11335.781, Time=0.36 sec\n",
      " ARIMA(1,2,3)(0,0,0)[0] intercept   : AIC=-11321.837, Time=0.89 sec\n",
      "\n",
      "Best model:  ARIMA(0,2,2)(0,0,0)[0] intercept\n",
      "Total fit time: 8.163 seconds\n"
     ]
    },
    {
     "data": {
      "text/html": [
       "<table class=\"simpletable\">\n",
       "<caption>SARIMAX Results</caption>\n",
       "<tr>\n",
       "  <th>Dep. Variable:</th>           <td>y</td>        <th>  No. Observations:  </th>     <td>929</td>   \n",
       "</tr>\n",
       "<tr>\n",
       "  <th>Model:</th>           <td>SARIMAX(0, 2, 2)</td> <th>  Log Likelihood     </th>  <td>5720.006</td> \n",
       "</tr>\n",
       "<tr>\n",
       "  <th>Date:</th>            <td>Mon, 22 Apr 2024</td> <th>  AIC                </th> <td>-11432.012</td>\n",
       "</tr>\n",
       "<tr>\n",
       "  <th>Time:</th>                <td>00:06:24</td>     <th>  BIC                </th> <td>-11412.684</td>\n",
       "</tr>\n",
       "<tr>\n",
       "  <th>Sample:</th>                  <td>0</td>        <th>  HQIC               </th> <td>-11424.639</td>\n",
       "</tr>\n",
       "<tr>\n",
       "  <th></th>                      <td> - 929</td>      <th>                     </th>      <td> </td>    \n",
       "</tr>\n",
       "<tr>\n",
       "  <th>Covariance Type:</th>        <td>opg</td>       <th>                     </th>      <td> </td>    \n",
       "</tr>\n",
       "</table>\n",
       "<table class=\"simpletable\">\n",
       "<tr>\n",
       "      <td></td>         <th>coef</th>     <th>std err</th>      <th>z</th>      <th>P>|z|</th>  <th>[0.025</th>    <th>0.975]</th>  \n",
       "</tr>\n",
       "<tr>\n",
       "  <th>intercept</th> <td> -4.42e-06</td> <td>  8.3e-06</td> <td>   -0.532</td> <td> 0.594</td> <td>-2.07e-05</td> <td> 1.19e-05</td>\n",
       "</tr>\n",
       "<tr>\n",
       "  <th>ma.L1</th>     <td>   -0.2541</td> <td>    0.007</td> <td>  -34.750</td> <td> 0.000</td> <td>   -0.268</td> <td>   -0.240</td>\n",
       "</tr>\n",
       "<tr>\n",
       "  <th>ma.L2</th>     <td>   -0.3018</td> <td>    0.017</td> <td>  -18.131</td> <td> 0.000</td> <td>   -0.334</td> <td>   -0.269</td>\n",
       "</tr>\n",
       "<tr>\n",
       "  <th>sigma2</th>    <td> 2.498e-07</td> <td> 2.33e-09</td> <td>  107.405</td> <td> 0.000</td> <td> 2.45e-07</td> <td> 2.54e-07</td>\n",
       "</tr>\n",
       "</table>\n",
       "<table class=\"simpletable\">\n",
       "<tr>\n",
       "  <th>Ljung-Box (L1) (Q):</th>      <td>4.09</td>  <th>  Jarque-Bera (JB):  </th> <td>154223.60</td>\n",
       "</tr>\n",
       "<tr>\n",
       "  <th>Prob(Q):</th>                 <td>0.04</td>  <th>  Prob(JB):          </th>   <td>0.00</td>   \n",
       "</tr>\n",
       "<tr>\n",
       "  <th>Heteroskedasticity (H):</th> <td>168.64</td> <th>  Skew:              </th>   <td>1.18</td>   \n",
       "</tr>\n",
       "<tr>\n",
       "  <th>Prob(H) (two-sided):</th>     <td>0.00</td>  <th>  Kurtosis:          </th>   <td>66.14</td>  \n",
       "</tr>\n",
       "</table><br/><br/>Warnings:<br/>[1] Covariance matrix calculated using the outer product of gradients (complex-step)."
      ],
      "text/latex": [
       "\\begin{center}\n",
       "\\begin{tabular}{lclc}\n",
       "\\toprule\n",
       "\\textbf{Dep. Variable:}          &        y         & \\textbf{  No. Observations:  } &    929      \\\\\n",
       "\\textbf{Model:}                  & SARIMAX(0, 2, 2) & \\textbf{  Log Likelihood     } &  5720.006   \\\\\n",
       "\\textbf{Date:}                   & Mon, 22 Apr 2024 & \\textbf{  AIC                } & -11432.012  \\\\\n",
       "\\textbf{Time:}                   &     00:06:24     & \\textbf{  BIC                } & -11412.684  \\\\\n",
       "\\textbf{Sample:}                 &        0         & \\textbf{  HQIC               } & -11424.639  \\\\\n",
       "\\textbf{}                        &       - 929      & \\textbf{                     } &             \\\\\n",
       "\\textbf{Covariance Type:}        &       opg        & \\textbf{                     } &             \\\\\n",
       "\\bottomrule\n",
       "\\end{tabular}\n",
       "\\begin{tabular}{lcccccc}\n",
       "                   & \\textbf{coef} & \\textbf{std err} & \\textbf{z} & \\textbf{P$> |$z$|$} & \\textbf{[0.025} & \\textbf{0.975]}  \\\\\n",
       "\\midrule\n",
       "\\textbf{intercept} &    -4.42e-06  &      8.3e-06     &    -0.532  &         0.594        &    -2.07e-05    &     1.19e-05     \\\\\n",
       "\\textbf{ma.L1}     &      -0.2541  &        0.007     &   -34.750  &         0.000        &       -0.268    &       -0.240     \\\\\n",
       "\\textbf{ma.L2}     &      -0.3018  &        0.017     &   -18.131  &         0.000        &       -0.334    &       -0.269     \\\\\n",
       "\\textbf{sigma2}    &    2.498e-07  &     2.33e-09     &   107.405  &         0.000        &     2.45e-07    &     2.54e-07     \\\\\n",
       "\\bottomrule\n",
       "\\end{tabular}\n",
       "\\begin{tabular}{lclc}\n",
       "\\textbf{Ljung-Box (L1) (Q):}     &  4.09  & \\textbf{  Jarque-Bera (JB):  } & 154223.60  \\\\\n",
       "\\textbf{Prob(Q):}                &  0.04  & \\textbf{  Prob(JB):          } &    0.00    \\\\\n",
       "\\textbf{Heteroskedasticity (H):} & 168.64 & \\textbf{  Skew:              } &    1.18    \\\\\n",
       "\\textbf{Prob(H) (two-sided):}    &  0.00  & \\textbf{  Kurtosis:          } &   66.14    \\\\\n",
       "\\bottomrule\n",
       "\\end{tabular}\n",
       "%\\caption{SARIMAX Results}\n",
       "\\end{center}\n",
       "\n",
       "Warnings: \\newline\n",
       " [1] Covariance matrix calculated using the outer product of gradients (complex-step)."
      ],
      "text/plain": [
       "<class 'statsmodels.iolib.summary.Summary'>\n",
       "\"\"\"\n",
       "                               SARIMAX Results                                \n",
       "==============================================================================\n",
       "Dep. Variable:                      y   No. Observations:                  929\n",
       "Model:               SARIMAX(0, 2, 2)   Log Likelihood                5720.006\n",
       "Date:                Mon, 22 Apr 2024   AIC                         -11432.012\n",
       "Time:                        00:06:24   BIC                         -11412.684\n",
       "Sample:                             0   HQIC                        -11424.639\n",
       "                                - 929                                         \n",
       "Covariance Type:                  opg                                         \n",
       "==============================================================================\n",
       "                 coef    std err          z      P>|z|      [0.025      0.975]\n",
       "------------------------------------------------------------------------------\n",
       "intercept   -4.42e-06    8.3e-06     -0.532      0.594   -2.07e-05    1.19e-05\n",
       "ma.L1         -0.2541      0.007    -34.750      0.000      -0.268      -0.240\n",
       "ma.L2         -0.3018      0.017    -18.131      0.000      -0.334      -0.269\n",
       "sigma2      2.498e-07   2.33e-09    107.405      0.000    2.45e-07    2.54e-07\n",
       "===================================================================================\n",
       "Ljung-Box (L1) (Q):                   4.09   Jarque-Bera (JB):            154223.60\n",
       "Prob(Q):                              0.04   Prob(JB):                         0.00\n",
       "Heteroskedasticity (H):             168.64   Skew:                             1.18\n",
       "Prob(H) (two-sided):                  0.00   Kurtosis:                        66.14\n",
       "===================================================================================\n",
       "\n",
       "Warnings:\n",
       "[1] Covariance matrix calculated using the outer product of gradients (complex-step).\n",
       "\"\"\""
      ]
     },
     "execution_count": 28,
     "metadata": {},
     "output_type": "execute_result"
    }
   ],
   "source": [
    "steps = auto_arima(X_train_scaled, trace=True, suppress_warnings=True)\n",
    "best_order = steps.get_params()['order']\n",
    "steps.summary()"
   ]
  },
  {
   "cell_type": "code",
   "execution_count": 29,
   "metadata": {},
   "outputs": [
    {
     "data": {
      "text/html": [
       "<table class=\"simpletable\">\n",
       "<caption>SARIMAX Results</caption>\n",
       "<tr>\n",
       "  <th>Dep. Variable:</th>           <td>y</td>        <th>  No. Observations:  </th>     <td>929</td>   \n",
       "</tr>\n",
       "<tr>\n",
       "  <th>Model:</th>            <td>ARIMA(0, 2, 5)</td>  <th>  Log Likelihood     </th>  <td>5723.623</td> \n",
       "</tr>\n",
       "<tr>\n",
       "  <th>Date:</th>            <td>Mon, 22 Apr 2024</td> <th>  AIC                </th> <td>-11435.245</td>\n",
       "</tr>\n",
       "<tr>\n",
       "  <th>Time:</th>                <td>00:06:25</td>     <th>  BIC                </th> <td>-11406.253</td>\n",
       "</tr>\n",
       "<tr>\n",
       "  <th>Sample:</th>                  <td>0</td>        <th>  HQIC               </th> <td>-11424.186</td>\n",
       "</tr>\n",
       "<tr>\n",
       "  <th></th>                      <td> - 929</td>      <th>                     </th>      <td> </td>    \n",
       "</tr>\n",
       "<tr>\n",
       "  <th>Covariance Type:</th>        <td>opg</td>       <th>                     </th>      <td> </td>    \n",
       "</tr>\n",
       "</table>\n",
       "<table class=\"simpletable\">\n",
       "<tr>\n",
       "     <td></td>       <th>coef</th>     <th>std err</th>      <th>z</th>      <th>P>|z|</th>  <th>[0.025</th>    <th>0.975]</th>  \n",
       "</tr>\n",
       "<tr>\n",
       "  <th>ma.L1</th>  <td>   -0.4400</td> <td>    0.008</td> <td>  -54.832</td> <td> 0.000</td> <td>   -0.456</td> <td>   -0.424</td>\n",
       "</tr>\n",
       "<tr>\n",
       "  <th>ma.L2</th>  <td>   -0.1486</td> <td>    0.024</td> <td>   -6.304</td> <td> 0.000</td> <td>   -0.195</td> <td>   -0.102</td>\n",
       "</tr>\n",
       "<tr>\n",
       "  <th>ma.L3</th>  <td>   -0.0532</td> <td>    0.030</td> <td>   -1.764</td> <td> 0.078</td> <td>   -0.112</td> <td>    0.006</td>\n",
       "</tr>\n",
       "<tr>\n",
       "  <th>ma.L4</th>  <td>    0.0004</td> <td>    0.028</td> <td>    0.014</td> <td> 0.989</td> <td>   -0.055</td> <td>    0.056</td>\n",
       "</tr>\n",
       "<tr>\n",
       "  <th>ma.L5</th>  <td>    0.0714</td> <td>    0.021</td> <td>    3.370</td> <td> 0.001</td> <td>    0.030</td> <td>    0.113</td>\n",
       "</tr>\n",
       "<tr>\n",
       "  <th>sigma2</th> <td> 2.535e-07</td> <td> 2.29e-09</td> <td>  110.541</td> <td> 0.000</td> <td> 2.49e-07</td> <td> 2.58e-07</td>\n",
       "</tr>\n",
       "</table>\n",
       "<table class=\"simpletable\">\n",
       "<tr>\n",
       "  <th>Ljung-Box (L1) (Q):</th>      <td>42.63</td> <th>  Jarque-Bera (JB):  </th> <td>116597.68</td>\n",
       "</tr>\n",
       "<tr>\n",
       "  <th>Prob(Q):</th>                 <td>0.00</td>  <th>  Prob(JB):          </th>   <td>0.00</td>   \n",
       "</tr>\n",
       "<tr>\n",
       "  <th>Heteroskedasticity (H):</th> <td>168.73</td> <th>  Skew:              </th>   <td>1.87</td>   \n",
       "</tr>\n",
       "<tr>\n",
       "  <th>Prob(H) (two-sided):</th>     <td>0.00</td>  <th>  Kurtosis:          </th>   <td>57.82</td>  \n",
       "</tr>\n",
       "</table><br/><br/>Warnings:<br/>[1] Covariance matrix calculated using the outer product of gradients (complex-step)."
      ],
      "text/latex": [
       "\\begin{center}\n",
       "\\begin{tabular}{lclc}\n",
       "\\toprule\n",
       "\\textbf{Dep. Variable:}          &        y         & \\textbf{  No. Observations:  } &    929      \\\\\n",
       "\\textbf{Model:}                  &  ARIMA(0, 2, 5)  & \\textbf{  Log Likelihood     } &  5723.623   \\\\\n",
       "\\textbf{Date:}                   & Mon, 22 Apr 2024 & \\textbf{  AIC                } & -11435.245  \\\\\n",
       "\\textbf{Time:}                   &     00:06:25     & \\textbf{  BIC                } & -11406.253  \\\\\n",
       "\\textbf{Sample:}                 &        0         & \\textbf{  HQIC               } & -11424.186  \\\\\n",
       "\\textbf{}                        &       - 929      & \\textbf{                     } &             \\\\\n",
       "\\textbf{Covariance Type:}        &       opg        & \\textbf{                     } &             \\\\\n",
       "\\bottomrule\n",
       "\\end{tabular}\n",
       "\\begin{tabular}{lcccccc}\n",
       "                & \\textbf{coef} & \\textbf{std err} & \\textbf{z} & \\textbf{P$> |$z$|$} & \\textbf{[0.025} & \\textbf{0.975]}  \\\\\n",
       "\\midrule\n",
       "\\textbf{ma.L1}  &      -0.4400  &        0.008     &   -54.832  &         0.000        &       -0.456    &       -0.424     \\\\\n",
       "\\textbf{ma.L2}  &      -0.1486  &        0.024     &    -6.304  &         0.000        &       -0.195    &       -0.102     \\\\\n",
       "\\textbf{ma.L3}  &      -0.0532  &        0.030     &    -1.764  &         0.078        &       -0.112    &        0.006     \\\\\n",
       "\\textbf{ma.L4}  &       0.0004  &        0.028     &     0.014  &         0.989        &       -0.055    &        0.056     \\\\\n",
       "\\textbf{ma.L5}  &       0.0714  &        0.021     &     3.370  &         0.001        &        0.030    &        0.113     \\\\\n",
       "\\textbf{sigma2} &    2.535e-07  &     2.29e-09     &   110.541  &         0.000        &     2.49e-07    &     2.58e-07     \\\\\n",
       "\\bottomrule\n",
       "\\end{tabular}\n",
       "\\begin{tabular}{lclc}\n",
       "\\textbf{Ljung-Box (L1) (Q):}     & 42.63  & \\textbf{  Jarque-Bera (JB):  } & 116597.68  \\\\\n",
       "\\textbf{Prob(Q):}                &  0.00  & \\textbf{  Prob(JB):          } &    0.00    \\\\\n",
       "\\textbf{Heteroskedasticity (H):} & 168.73 & \\textbf{  Skew:              } &    1.87    \\\\\n",
       "\\textbf{Prob(H) (two-sided):}    &  0.00  & \\textbf{  Kurtosis:          } &   57.82    \\\\\n",
       "\\bottomrule\n",
       "\\end{tabular}\n",
       "%\\caption{SARIMAX Results}\n",
       "\\end{center}\n",
       "\n",
       "Warnings: \\newline\n",
       " [1] Covariance matrix calculated using the outer product of gradients (complex-step)."
      ],
      "text/plain": [
       "<class 'statsmodels.iolib.summary.Summary'>\n",
       "\"\"\"\n",
       "                               SARIMAX Results                                \n",
       "==============================================================================\n",
       "Dep. Variable:                      y   No. Observations:                  929\n",
       "Model:                 ARIMA(0, 2, 5)   Log Likelihood                5723.623\n",
       "Date:                Mon, 22 Apr 2024   AIC                         -11435.245\n",
       "Time:                        00:06:25   BIC                         -11406.253\n",
       "Sample:                             0   HQIC                        -11424.186\n",
       "                                - 929                                         \n",
       "Covariance Type:                  opg                                         \n",
       "==============================================================================\n",
       "                 coef    std err          z      P>|z|      [0.025      0.975]\n",
       "------------------------------------------------------------------------------\n",
       "ma.L1         -0.4400      0.008    -54.832      0.000      -0.456      -0.424\n",
       "ma.L2         -0.1486      0.024     -6.304      0.000      -0.195      -0.102\n",
       "ma.L3         -0.0532      0.030     -1.764      0.078      -0.112       0.006\n",
       "ma.L4          0.0004      0.028      0.014      0.989      -0.055       0.056\n",
       "ma.L5          0.0714      0.021      3.370      0.001       0.030       0.113\n",
       "sigma2      2.535e-07   2.29e-09    110.541      0.000    2.49e-07    2.58e-07\n",
       "===================================================================================\n",
       "Ljung-Box (L1) (Q):                  42.63   Jarque-Bera (JB):            116597.68\n",
       "Prob(Q):                              0.00   Prob(JB):                         0.00\n",
       "Heteroskedasticity (H):             168.73   Skew:                             1.87\n",
       "Prob(H) (two-sided):                  0.00   Kurtosis:                        57.82\n",
       "===================================================================================\n",
       "\n",
       "Warnings:\n",
       "[1] Covariance matrix calculated using the outer product of gradients (complex-step).\n",
       "\"\"\""
      ]
     },
     "execution_count": 29,
     "metadata": {},
     "output_type": "execute_result"
    }
   ],
   "source": [
    "model = ARIMA(X_train_scaled, order=(0,2,5)).fit()\n",
    "model.summary()\n"
   ]
  },
  {
   "cell_type": "code",
   "execution_count": 30,
   "metadata": {},
   "outputs": [],
   "source": [
    "pred = model.forecast(steps=len(X_test_scaled))"
   ]
  },
  {
   "cell_type": "code",
   "execution_count": 31,
   "metadata": {},
   "outputs": [
    {
     "data": {
      "image/png": "[encoded data removed]",
      "text/plain": [
       "<Figure size 640x480 with 1 Axes>"
      ]
     },
     "metadata": {},
     "output_type": "display_data"
    },
    {
     "ename": "",
     "evalue": "",
     "output_type": "error",
     "traceback": [
      "\u001b[1;31mThe Kernel crashed while executing code in the current cell or a previous cell. \n",
      "\u001b[1;31mPlease review the code in the cell(s) to identify a possible cause of the failure. \n",
      "\u001b[1;31mClick <a href='https://aka.ms/vscodeJupyterKernelCrash'>here</a> for more info. \n",
      "\u001b[1;31mView Jupyter <a href='command:jupyter.viewOutput'>log</a> for further details."
     ]
    }
   ],
   "source": [
    "plt.plot(dates_test, pred, label='Test Predictions')\n",
    "plt.plot(dates_test, X_test_scaled, label='Test Observations')\n",
    "\n",
    "plt.legend()\n",
    "plt.show()"
   ]
  }
 ],
 "metadata": {
  "kernelspec": {
   "display_name": "Python 3",
   "language": "python",
   "name": "python3"
  },
  "language_info": {
   "codemirror_mode": {
    "name": "ipython",
    "version": 3
   },
   "file_extension": ".py",
   "mimetype": "text/x-python",
   "name": "python",
   "nbconvert_exporter": "python",
   "pygments_lexer": "ipython3",
   "version": "3.12.1"
  }
 },
 "nbformat": 4,
 "nbformat_minor": 2
}
